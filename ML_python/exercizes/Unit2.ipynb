{
 "cells": [
  {
   "cell_type": "code",
   "execution_count": 1,
   "metadata": {},
   "outputs": [],
   "source": [
    "#inport pacakages \n",
    "import numpy as np\n",
    "import matplotlib.pyplot as plt\n"
   ]
  },
  {
   "cell_type": "code",
   "execution_count": 39,
   "metadata": {},
   "outputs": [
    {
     "name": "stdout",
     "output_type": "stream",
     "text": [
      "[[ 1  0  1]\n",
      " [ 1  1  1]\n",
      " [ 1  1 -1]\n",
      " [-1  1  1]]\n"
     ]
    }
   ],
   "source": [
    "theta = np.array([[0, 1, 2]])\n",
    "\n",
    "x = np.array([[1, 0, 1],[1, 1, 1],[1, 1, -1],[-1, 1, 1]])\n",
    "y = np.array([2, 2.7, -0.7, 2])\n",
    "\n",
    "print(x)"
   ]
  },
  {
   "cell_type": "markdown",
   "metadata": {},
   "source": [
    "Compute Hinge Loss"
   ]
  },
  {
   "cell_type": "code",
   "execution_count": null,
   "metadata": {},
   "outputs": [],
   "source": [
    "def single_hinge(x,y,theta):\n",
    "    return max(0, 1 -  (y - np.dot(theta, x)))"
   ]
  },
  {
   "cell_type": "code",
   "execution_count": 42,
   "metadata": {},
   "outputs": [
    {
     "name": "stdout",
     "output_type": "stream",
     "text": [
      "[1.]\n",
      "[1.3]\n",
      "[0.7]\n",
      "[2.]\n"
     ]
    }
   ],
   "source": [
    "for i in range (0, 4):\n",
    "    print(single_hinge(x[i], y[i], theta))"
   ]
  },
  {
   "cell_type": "code",
   "execution_count": 45,
   "metadata": {},
   "outputs": [],
   "source": [
    "def hinge_loss(x, y, theta, N):\n",
    "    l = 0\n",
    "    for i in range (0, N):\n",
    "        a = single_hinge(x[i], y[i], theta)\n",
    "        l += a\n",
    "    return l/N"
   ]
  },
  {
   "cell_type": "code",
   "execution_count": 54,
   "metadata": {},
   "outputs": [
    {
     "data": {
      "text/plain": [
       "array([1.25])"
      ]
     },
     "execution_count": 54,
     "metadata": {},
     "output_type": "execute_result"
    }
   ],
   "source": [
    "hinge_loss(x, y, theta, 4)"
   ]
  },
  {
   "cell_type": "markdown",
   "metadata": {},
   "source": [
    "Compute Squared Error Loss"
   ]
  },
  {
   "cell_type": "code",
   "execution_count": 63,
   "metadata": {},
   "outputs": [],
   "source": [
    "def squared_error_loss(x, y, theta, N):\n",
    "    l = 0\n",
    "    for i in range(0,N):\n",
    "        a = (1/N)*((y[i] - np.dot(theta, x[i]))**2/2)\n",
    "        l += a\n",
    "    return l        "
   ]
  },
  {
   "cell_type": "code",
   "execution_count": 64,
   "metadata": {},
   "outputs": [
    {
     "data": {
      "text/plain": [
       "array([0.1475])"
      ]
     },
     "execution_count": 64,
     "metadata": {},
     "output_type": "execute_result"
    }
   ],
   "source": [
    "squared_error_loss(x,y,theta,4)"
   ]
  },
  {
   "cell_type": "code",
   "execution_count": null,
   "metadata": {},
   "outputs": [
    {
     "ename": "SyntaxError",
     "evalue": "unmatched ')' (3578600815.py, line 1)",
     "output_type": "error",
     "traceback": [
      "\u001b[0;36m  Cell \u001b[0;32mIn[70], line 1\u001b[0;36m\u001b[0m\n\u001b[0;31m    print((1-0.4*0))*(y[1] - np.dot(theta, x[1])) * x[1])\u001b[0m\n\u001b[0m                                                        ^\u001b[0m\n\u001b[0;31mSyntaxError\u001b[0m\u001b[0;31m:\u001b[0m unmatched ')'\n"
     ]
    }
   ],
   "source": [
    "print(((1-0.4*0))*(y[1] - np.dot(theta, x[1])) * x[1])\n"
   ]
  },
  {
   "cell_type": "markdown",
   "metadata": {},
   "source": []
  },
  {
   "cell_type": "code",
   "execution_count": 13,
   "metadata": {},
   "outputs": [
    {
     "name": "stdout",
     "output_type": "stream",
     "text": [
      "-1.0000000000000002\n"
     ]
    }
   ],
   "source": [
    "x = np.array([1,0,0])\n",
    "x_l = np.array([0,1,0])\n",
    "\n",
    "print((-1/2)*(np.linalg.norm((x-x_l))**2)) "
   ]
  },
  {
   "cell_type": "code",
   "execution_count": 24,
   "metadata": {},
   "outputs": [
    {
     "data": {
      "text/plain": [
       "matrix([[3, 6, 3],\n",
       "        [2, 4, 2],\n",
       "        [1, 2, 1]])"
      ]
     },
     "execution_count": 24,
     "metadata": {},
     "output_type": "execute_result"
    }
   ],
   "source": [
    "np.matrix([[3],[2],[1]]) *np.matrix([[1,2,1]])"
   ]
  },
  {
   "cell_type": "code",
   "execution_count": null,
   "metadata": {},
   "outputs": [],
   "source": []
  }
 ],
 "metadata": {
  "kernelspec": {
   "display_name": "Python 3",
   "language": "python",
   "name": "python3"
  },
  "language_info": {
   "codemirror_mode": {
    "name": "ipython",
    "version": 3
   },
   "file_extension": ".py",
   "mimetype": "text/x-python",
   "name": "python",
   "nbconvert_exporter": "python",
   "pygments_lexer": "ipython3",
   "version": "3.11.9"
  }
 },
 "nbformat": 4,
 "nbformat_minor": 2
}
